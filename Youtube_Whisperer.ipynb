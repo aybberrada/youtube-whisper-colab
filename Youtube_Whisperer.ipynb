{
  "cells": [
    {
      "cell_type": "markdown",
      "metadata": {
        "id": "view-in-github",
        "colab_type": "text"
      },
      "source": [
        "<a href=\"https://colab.research.google.com/github/aybberrada/youtube-whisper-colab/blob/main/Youtube_Whisperer.ipynb\" target=\"_parent\"><img src=\"https://colab.research.google.com/assets/colab-badge.svg\" alt=\"Open In Colab\"/></a>"
      ]
    },
    {
      "cell_type": "code",
      "source": [
        "#@title Setup\n",
        "!pip install git+https://github.com/openai/whisper.git\n",
        "!pip install pytube\n",
        "\n",
        "import whisper\n",
        "from pytube import YouTube\n",
        "import sys\n",
        "import os\n",
        "from google.colab import files\n",
        "from IPython.display import HTML as html_print"
      ],
      "metadata": {
        "cellView": "form",
        "id": "xJBefGYnBbVo"
      },
      "execution_count": null,
      "outputs": []
    },
    {
      "cell_type": "code",
      "execution_count": null,
      "metadata": {
        "id": "XeXfaMio3Oin",
        "cellView": "form"
      },
      "outputs": [],
      "source": [
        "#@title Run\n",
        "Video_URL = \"https://www.youtube.com/watch?v=4C4l7nbVqW8\" #@param {type:\"string\"}\n",
        "Video_in_English = True #@param {type:\"boolean\"}\n",
        "model = 'tiny' #@param [\"tiny\", \"base\", \"small\", \"medium\"]\n",
        "#@markdown Expected time depending on video length and model (quality, speed):\n",
        "#@markdown\n",
        "#@markdown       base: ( Better, Fast )                tiny: ( Very good, Fastest)\n",
        "#@markdown            ~2 hours      in 5 minutes     |        ~2 hours     in 3 minutes\n",
        "#@markdown            ~1 hour       in 4 minutes     |        ~1 hour      in 2 minutes\n",
        "#@markdown            ~30 minutes   in 3 minutes     |        ~30 minutes  in 1 minutes\n",
        "#@markdown\n",
        "#@markdown       small: ( 2nd Best, Slow  )            medium: ( Best, Slowest )\n",
        "#@markdown            ~2 hours      in 14 minutes    |        ~2 hours     in 40 minutes\n",
        "#@markdown            ~1 hour       in 11 minutes    |        ~1 hour      in 30 minutes\n",
        "#@markdown            ~30 minutes   in 8 minutes     |        ~30 minutes  in 24 minutes\n",
        "#@markdown\n",
        "\n",
        "print(\"Loading Whisper...\")\n",
        "model = model+\".en\" if Video_in_English else model\n",
        "w_model = whisper.load_model(model)\n",
        "\n",
        "print(\"Downloading audio...\")\n",
        "youtube_video = YouTube(Video_URL)\n",
        "audio_stream = youtube_video.streams.filter(only_audio=True).first()\n",
        "audio_stream.download(filename='audio.mp4')\n",
        "\n",
        "print(\"Transcribing audio...\")\n",
        "if Video_in_English:\n",
        "  output = w_model.transcribe('./audio.mp4', language=\"en\")\n",
        "else:\n",
        "  output = w_model.transcribe('./audio.mp4')\n",
        "\n",
        "with open(\"transcription.txt\",\"w\") as f:\n",
        "  f.write(output['text'])\n",
        "  f.close()\n",
        "print(\"Done. Please wait...\")\n",
        "files.download(\"transcription.txt\")"
      ]
    }
  ],
  "metadata": {
    "accelerator": "GPU",
    "colab": {
      "provenance": [],
      "authorship_tag": "ABX9TyMDiXMMS5u9IdCH7RsjYnf9",
      "include_colab_link": true
    },
    "gpuClass": "standard",
    "kernelspec": {
      "display_name": "Python 3",
      "name": "python3"
    },
    "language_info": {
      "name": "python"
    }
  },
  "nbformat": 4,
  "nbformat_minor": 0
}