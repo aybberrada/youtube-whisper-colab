{
  "cells": [
    {
      "cell_type": "markdown",
      "metadata": {
        "id": "view-in-github",
        "colab_type": "text"
      },
      "source": [
        "<a href=\"https://colab.research.google.com/github/aybberrada/youtube-whisper-colab/blob/main/Youtube_Whisperer.ipynb\" target=\"_parent\"><img src=\"https://colab.research.google.com/assets/colab-badge.svg\" alt=\"Open In Colab\"/></a>"
      ]
    },
    {
      "cell_type": "code",
      "source": [
        "#@title Setup\n",
        "!pip install git+https://github.com/openai/whisper.git\n",
        "!pip install pytube\n",
        "\n",
        "import whisper\n",
        "from pytube import YouTube\n",
        "import sys\n",
        "import os\n",
        "from google.colab import files\n",
        "from IPython.display import HTML as html_print\n",
        "from datetime import timedelta"
      ],
      "metadata": {
        "id": "xJBefGYnBbVo"
      },
      "execution_count": null,
      "outputs": []
    },
    {
      "cell_type": "code",
      "execution_count": 7,
      "metadata": {
        "id": "XeXfaMio3Oin",
        "cellView": "form",
        "outputId": "4c25873e-e9ce-4761-d514-dd7660df8dfd",
        "colab": {
          "base_uri": "https://localhost:8080/",
          "height": 86
        }
      },
      "outputs": [
        {
          "output_type": "stream",
          "name": "stdout",
          "text": [
            "Loading Whisper...\n",
            "Downloading audio...\n",
            "Transcribing audio...\n",
            "Done. Please wait...\n"
          ]
        },
        {
          "output_type": "display_data",
          "data": {
            "text/plain": [
              "<IPython.core.display.Javascript object>"
            ],
            "application/javascript": [
              "\n",
              "    async function download(id, filename, size) {\n",
              "      if (!google.colab.kernel.accessAllowed) {\n",
              "        return;\n",
              "      }\n",
              "      const div = document.createElement('div');\n",
              "      const label = document.createElement('label');\n",
              "      label.textContent = `Downloading \"${filename}\": `;\n",
              "      div.appendChild(label);\n",
              "      const progress = document.createElement('progress');\n",
              "      progress.max = size;\n",
              "      div.appendChild(progress);\n",
              "      document.body.appendChild(div);\n",
              "\n",
              "      const buffers = [];\n",
              "      let downloaded = 0;\n",
              "\n",
              "      const channel = await google.colab.kernel.comms.open(id);\n",
              "      // Send a message to notify the kernel that we're ready.\n",
              "      channel.send({})\n",
              "\n",
              "      for await (const message of channel.messages) {\n",
              "        // Send a message to notify the kernel that we're ready.\n",
              "        channel.send({})\n",
              "        if (message.buffers) {\n",
              "          for (const buffer of message.buffers) {\n",
              "            buffers.push(buffer);\n",
              "            downloaded += buffer.byteLength;\n",
              "            progress.value = downloaded;\n",
              "          }\n",
              "        }\n",
              "      }\n",
              "      const blob = new Blob(buffers, {type: 'application/binary'});\n",
              "      const a = document.createElement('a');\n",
              "      a.href = window.URL.createObjectURL(blob);\n",
              "      a.download = filename;\n",
              "      div.appendChild(a);\n",
              "      a.click();\n",
              "      div.remove();\n",
              "    }\n",
              "  "
            ]
          },
          "metadata": {}
        },
        {
          "output_type": "display_data",
          "data": {
            "text/plain": [
              "<IPython.core.display.Javascript object>"
            ],
            "application/javascript": [
              "download(\"download_21610f0e-e060-4583-b5dc-3321f832144f\", \"subtitles.srt\", 7390)"
            ]
          },
          "metadata": {}
        }
      ],
      "source": [
        "#@title Run\n",
        "Video_URL = \"https://www.youtube.com/watch?v=Sz1n0RHwLqA\" #@param {type:\"string\"}\n",
        "Video_in_English = True #@param {type:\"boolean\"}\n",
        "model = 'tiny' #@param [\"tiny\", \"base\", \"small\", \"medium\"]\n",
        "output_format = 'srt' #@param [\"text\", \"srt\"]\n",
        "\n",
        "#@markdown Expected time depending on video length and model (quality, speed):\n",
        "#@markdown\n",
        "#@markdown       base: ( Better, Fast )                tiny: ( Very good, Fastest)\n",
        "#@markdown            ~2 hours      in 5 minutes     |        ~2 hours      in 3 minutes\n",
        "#@markdown            ~1 hour       in 4 minutes     |        ~1 hour       in 2 minutes\n",
        "#@markdown            ~30 minutes   in 2 minutes     |        ~30 minutes or less  in less than 1 minute\n",
        "#@markdown\n",
        "#@markdown       small: ( 2nd Best, Slow  )            medium: ( Best, Slowest )\n",
        "#@markdown            ~2 hours      in 9 minutes    |        ~2 hours      in 28 minutes\n",
        "#@markdown            ~1 hour       in 7 minutes    |        ~1 hour       in 21 minutes\n",
        "#@markdown            ~30 minutes   in 4 minutes     |        ~30 minutes   in 15 minutes\n",
        "#@markdown\n",
        "\n",
        "print(\"Loading Whisper...\")\n",
        "model = model+\".en\" if Video_in_English else model\n",
        "w_model = whisper.load_model(model)\n",
        "\n",
        "print(\"Downloading audio...\")\n",
        "youtube_video = YouTube(Video_URL)\n",
        "audio_stream = youtube_video.streams.filter(only_audio=True).first()\n",
        "audio_stream.download(filename='audio.mp4')\n",
        "\n",
        "print(\"Transcribing audio...\")\n",
        "if Video_in_English:\n",
        "  output = w_model.transcribe('./audio.mp4', language=\"en\")\n",
        "else:\n",
        "  output = w_model.transcribe('./audio.mp4')\n",
        "\n",
        "if output_format == \"text\":\n",
        "  with open(\"transcription.txt\",\"w\") as f:\n",
        "    f.write(output['text'])\n",
        "    f.close()\n",
        "  print(\"Done. Please wait...\")\n",
        "  files.download(\"transcription.txt\")\n",
        "\n",
        "elif output_format == \"srt\":\n",
        "    segments = output['segments']\n",
        "    for segment in segments:\n",
        "        startTime = str(0)+str(timedelta(seconds=int(segment['start'])))+',000'\n",
        "        endTime = str(0)+str(timedelta(seconds=int(segment['end'])))+',000'\n",
        "        text = segment['text']\n",
        "        segmentId = segment['id']+1\n",
        "        segment = f\"{segmentId}\\n{startTime} --> {endTime}\\n{text[1:] if text[0] == ' ' else text}\\n\\n\"\n",
        "\n",
        "        with open(\"subtitles.srt\", 'a', encoding='utf-8') as srtFile:\n",
        "            srtFile.write(segment)\n",
        "    print(\"Done. Please wait...\")\n",
        "    files.download(\"subtitles.srt\")"
      ]
    }
  ],
  "metadata": {
    "accelerator": "GPU",
    "colab": {
      "provenance": [],
      "include_colab_link": true
    },
    "gpuClass": "standard",
    "kernelspec": {
      "display_name": "Python 3",
      "name": "python3"
    },
    "language_info": {
      "name": "python"
    }
  },
  "nbformat": 4,
  "nbformat_minor": 0
}
